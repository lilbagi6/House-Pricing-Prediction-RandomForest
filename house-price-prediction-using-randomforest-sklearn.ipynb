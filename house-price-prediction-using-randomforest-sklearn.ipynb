{
 "cells": [
  {
   "cell_type": "code",
   "execution_count": 1,
   "id": "601abb80",
   "metadata": {
    "_cell_guid": "b1076dfc-b9ad-4769-8c92-a6c4dae69d19",
    "_uuid": "8f2839f25d086af736a60e9eeb907d3b93b6e0e5",
    "execution": {
     "iopub.execute_input": "2025-04-15T11:31:51.171696Z",
     "iopub.status.busy": "2025-04-15T11:31:51.171060Z",
     "iopub.status.idle": "2025-04-15T11:31:51.185559Z",
     "shell.execute_reply": "2025-04-15T11:31:51.184574Z"
    },
    "papermill": {
     "duration": 0.0246,
     "end_time": "2025-04-15T11:31:51.187105",
     "exception": false,
     "start_time": "2025-04-15T11:31:51.162505",
     "status": "completed"
    },
    "tags": []
   },
   "outputs": [
    {
     "name": "stdout",
     "output_type": "stream",
     "text": [
      "/kaggle/input/house-prices-advanced-regression-techniques/sample_submission.csv\n",
      "/kaggle/input/house-prices-advanced-regression-techniques/data_description.txt\n",
      "/kaggle/input/house-prices-advanced-regression-techniques/train.csv\n",
      "/kaggle/input/house-prices-advanced-regression-techniques/test.csv\n"
     ]
    }
   ],
   "source": [
    "# This Python 3 environment comes with many helpful analytics libraries installed\n",
    "# It is defined by the kaggle/python Docker image: https://github.com/kaggle/docker-python\n",
    "# For example, here's several helpful packages to load\n",
    "\n",
    "import os\n",
    "for dirname, _, filenames in os.walk('/kaggle/input'):\n",
    "    for filename in filenames:\n",
    "        print(os.path.join(dirname, filename))\n",
    "\n",
    "# You can write up to 20GB to the current directory (/kaggle/working/) that gets preserved as output when you create a version using \"Save & Run All\" \n",
    "# You can also write temporary files to /kaggle/temp/, but they won't be saved outside of the current session"
   ]
  },
  {
   "cell_type": "markdown",
   "id": "4c0a0790",
   "metadata": {
    "papermill": {
     "duration": 0.005974,
     "end_time": "2025-04-15T11:31:51.199747",
     "exception": false,
     "start_time": "2025-04-15T11:31:51.193773",
     "status": "completed"
    },
    "tags": []
   },
   "source": [
    "##  House Price Prediction using Random Forest\n",
    "\n",
    "In this notebook, we use `RandomForestRegressor` from Sklearn to predict house prices using tabular data.  \n",
    "We focus on preprocessing, tuning, and evaluating using RMSLE."
   ]
  },
  {
   "cell_type": "markdown",
   "id": "b3292748",
   "metadata": {
    "papermill": {
     "duration": 0.005726,
     "end_time": "2025-04-15T11:31:51.212866",
     "exception": false,
     "start_time": "2025-04-15T11:31:51.207140",
     "status": "completed"
    },
    "tags": []
   },
   "source": [
    "## Import the library"
   ]
  },
  {
   "cell_type": "code",
   "execution_count": 2,
   "id": "7b065cca",
   "metadata": {
    "execution": {
     "iopub.execute_input": "2025-04-15T11:31:51.226318Z",
     "iopub.status.busy": "2025-04-15T11:31:51.225963Z",
     "iopub.status.idle": "2025-04-15T11:31:56.328594Z",
     "shell.execute_reply": "2025-04-15T11:31:56.327591Z"
    },
    "papermill": {
     "duration": 5.111486,
     "end_time": "2025-04-15T11:31:56.330465",
     "exception": false,
     "start_time": "2025-04-15T11:31:51.218979",
     "status": "completed"
    },
    "tags": []
   },
   "outputs": [],
   "source": [
    "import numpy as np\n",
    "import pandas as pd\n",
    "import matplotlib.pyplot as plt\n",
    "import seaborn as sns\n",
    "from sklearn.ensemble import RandomForestRegressor\n",
    "sns.set()"
   ]
  },
  {
   "cell_type": "markdown",
   "id": "bd97eea2",
   "metadata": {
    "papermill": {
     "duration": 0.007041,
     "end_time": "2025-04-15T11:31:56.345731",
     "exception": false,
     "start_time": "2025-04-15T11:31:56.338690",
     "status": "completed"
    },
    "tags": []
   },
   "source": [
    "## Load the dataset"
   ]
  },
  {
   "cell_type": "code",
   "execution_count": 3,
   "id": "c064db84",
   "metadata": {
    "execution": {
     "iopub.execute_input": "2025-04-15T11:31:56.364123Z",
     "iopub.status.busy": "2025-04-15T11:31:56.362765Z",
     "iopub.status.idle": "2025-04-15T11:31:56.574727Z",
     "shell.execute_reply": "2025-04-15T11:31:56.573706Z"
    },
    "papermill": {
     "duration": 0.222996,
     "end_time": "2025-04-15T11:31:56.577033",
     "exception": false,
     "start_time": "2025-04-15T11:31:56.354037",
     "status": "completed"
    },
    "tags": []
   },
   "outputs": [
    {
     "data": {
      "text/html": [
       "<div>\n",
       "<style scoped>\n",
       "    .dataframe tbody tr th:only-of-type {\n",
       "        vertical-align: middle;\n",
       "    }\n",
       "\n",
       "    .dataframe tbody tr th {\n",
       "        vertical-align: top;\n",
       "    }\n",
       "\n",
       "    .dataframe thead th {\n",
       "        text-align: right;\n",
       "    }\n",
       "</style>\n",
       "<table border=\"1\" class=\"dataframe\">\n",
       "  <thead>\n",
       "    <tr style=\"text-align: right;\">\n",
       "      <th></th>\n",
       "      <th>Id</th>\n",
       "      <th>MSSubClass</th>\n",
       "      <th>MSZoning</th>\n",
       "      <th>LotFrontage</th>\n",
       "      <th>LotArea</th>\n",
       "      <th>Street</th>\n",
       "      <th>Alley</th>\n",
       "      <th>LotShape</th>\n",
       "      <th>LandContour</th>\n",
       "      <th>Utilities</th>\n",
       "      <th>...</th>\n",
       "      <th>PoolArea</th>\n",
       "      <th>PoolQC</th>\n",
       "      <th>Fence</th>\n",
       "      <th>MiscFeature</th>\n",
       "      <th>MiscVal</th>\n",
       "      <th>MoSold</th>\n",
       "      <th>YrSold</th>\n",
       "      <th>SaleType</th>\n",
       "      <th>SaleCondition</th>\n",
       "      <th>SalePrice</th>\n",
       "    </tr>\n",
       "  </thead>\n",
       "  <tbody>\n",
       "    <tr>\n",
       "      <th>0</th>\n",
       "      <td>1</td>\n",
       "      <td>60</td>\n",
       "      <td>RL</td>\n",
       "      <td>65.0</td>\n",
       "      <td>8450</td>\n",
       "      <td>Pave</td>\n",
       "      <td>NaN</td>\n",
       "      <td>Reg</td>\n",
       "      <td>Lvl</td>\n",
       "      <td>AllPub</td>\n",
       "      <td>...</td>\n",
       "      <td>0</td>\n",
       "      <td>NaN</td>\n",
       "      <td>NaN</td>\n",
       "      <td>NaN</td>\n",
       "      <td>0</td>\n",
       "      <td>2</td>\n",
       "      <td>2008</td>\n",
       "      <td>WD</td>\n",
       "      <td>Normal</td>\n",
       "      <td>208500</td>\n",
       "    </tr>\n",
       "    <tr>\n",
       "      <th>1</th>\n",
       "      <td>2</td>\n",
       "      <td>20</td>\n",
       "      <td>RL</td>\n",
       "      <td>80.0</td>\n",
       "      <td>9600</td>\n",
       "      <td>Pave</td>\n",
       "      <td>NaN</td>\n",
       "      <td>Reg</td>\n",
       "      <td>Lvl</td>\n",
       "      <td>AllPub</td>\n",
       "      <td>...</td>\n",
       "      <td>0</td>\n",
       "      <td>NaN</td>\n",
       "      <td>NaN</td>\n",
       "      <td>NaN</td>\n",
       "      <td>0</td>\n",
       "      <td>5</td>\n",
       "      <td>2007</td>\n",
       "      <td>WD</td>\n",
       "      <td>Normal</td>\n",
       "      <td>181500</td>\n",
       "    </tr>\n",
       "    <tr>\n",
       "      <th>2</th>\n",
       "      <td>3</td>\n",
       "      <td>60</td>\n",
       "      <td>RL</td>\n",
       "      <td>68.0</td>\n",
       "      <td>11250</td>\n",
       "      <td>Pave</td>\n",
       "      <td>NaN</td>\n",
       "      <td>IR1</td>\n",
       "      <td>Lvl</td>\n",
       "      <td>AllPub</td>\n",
       "      <td>...</td>\n",
       "      <td>0</td>\n",
       "      <td>NaN</td>\n",
       "      <td>NaN</td>\n",
       "      <td>NaN</td>\n",
       "      <td>0</td>\n",
       "      <td>9</td>\n",
       "      <td>2008</td>\n",
       "      <td>WD</td>\n",
       "      <td>Normal</td>\n",
       "      <td>223500</td>\n",
       "    </tr>\n",
       "    <tr>\n",
       "      <th>3</th>\n",
       "      <td>4</td>\n",
       "      <td>70</td>\n",
       "      <td>RL</td>\n",
       "      <td>60.0</td>\n",
       "      <td>9550</td>\n",
       "      <td>Pave</td>\n",
       "      <td>NaN</td>\n",
       "      <td>IR1</td>\n",
       "      <td>Lvl</td>\n",
       "      <td>AllPub</td>\n",
       "      <td>...</td>\n",
       "      <td>0</td>\n",
       "      <td>NaN</td>\n",
       "      <td>NaN</td>\n",
       "      <td>NaN</td>\n",
       "      <td>0</td>\n",
       "      <td>2</td>\n",
       "      <td>2006</td>\n",
       "      <td>WD</td>\n",
       "      <td>Abnorml</td>\n",
       "      <td>140000</td>\n",
       "    </tr>\n",
       "    <tr>\n",
       "      <th>4</th>\n",
       "      <td>5</td>\n",
       "      <td>60</td>\n",
       "      <td>RL</td>\n",
       "      <td>84.0</td>\n",
       "      <td>14260</td>\n",
       "      <td>Pave</td>\n",
       "      <td>NaN</td>\n",
       "      <td>IR1</td>\n",
       "      <td>Lvl</td>\n",
       "      <td>AllPub</td>\n",
       "      <td>...</td>\n",
       "      <td>0</td>\n",
       "      <td>NaN</td>\n",
       "      <td>NaN</td>\n",
       "      <td>NaN</td>\n",
       "      <td>0</td>\n",
       "      <td>12</td>\n",
       "      <td>2008</td>\n",
       "      <td>WD</td>\n",
       "      <td>Normal</td>\n",
       "      <td>250000</td>\n",
       "    </tr>\n",
       "  </tbody>\n",
       "</table>\n",
       "<p>5 rows × 81 columns</p>\n",
       "</div>"
      ],
      "text/plain": [
       "   Id  MSSubClass MSZoning  LotFrontage  LotArea Street Alley LotShape  \\\n",
       "0   1          60       RL         65.0     8450   Pave   NaN      Reg   \n",
       "1   2          20       RL         80.0     9600   Pave   NaN      Reg   \n",
       "2   3          60       RL         68.0    11250   Pave   NaN      IR1   \n",
       "3   4          70       RL         60.0     9550   Pave   NaN      IR1   \n",
       "4   5          60       RL         84.0    14260   Pave   NaN      IR1   \n",
       "\n",
       "  LandContour Utilities  ... PoolArea PoolQC Fence MiscFeature MiscVal MoSold  \\\n",
       "0         Lvl    AllPub  ...        0    NaN   NaN         NaN       0      2   \n",
       "1         Lvl    AllPub  ...        0    NaN   NaN         NaN       0      5   \n",
       "2         Lvl    AllPub  ...        0    NaN   NaN         NaN       0      9   \n",
       "3         Lvl    AllPub  ...        0    NaN   NaN         NaN       0      2   \n",
       "4         Lvl    AllPub  ...        0    NaN   NaN         NaN       0     12   \n",
       "\n",
       "  YrSold  SaleType  SaleCondition  SalePrice  \n",
       "0   2008        WD         Normal     208500  \n",
       "1   2007        WD         Normal     181500  \n",
       "2   2008        WD         Normal     223500  \n",
       "3   2006        WD        Abnorml     140000  \n",
       "4   2008        WD         Normal     250000  \n",
       "\n",
       "[5 rows x 81 columns]"
      ]
     },
     "execution_count": 3,
     "metadata": {},
     "output_type": "execute_result"
    }
   ],
   "source": [
    "train_df = pd.read_csv(\"/kaggle/input/house-prices-advanced-regression-techniques/train.csv\")\n",
    "test_df = pd.read_csv(\"/kaggle/input/house-prices-advanced-regression-techniques/test.csv\")\n",
    "\n",
    "train_df.head()"
   ]
  },
  {
   "cell_type": "markdown",
   "id": "22d1d509",
   "metadata": {
    "papermill": {
     "duration": 0.007389,
     "end_time": "2025-04-15T11:31:56.597622",
     "exception": false,
     "start_time": "2025-04-15T11:31:56.590233",
     "status": "completed"
    },
    "tags": []
   },
   "source": [
    "## EDA and visualisation \n",
    "\n",
    "Let's explore the training dataset to understand its structure, distribution of the target (`SalePrice`), and prepare for preprocessing."
   ]
  },
  {
   "cell_type": "code",
   "execution_count": 4,
   "id": "d8633fcc",
   "metadata": {
    "execution": {
     "iopub.execute_input": "2025-04-15T11:31:56.612870Z",
     "iopub.status.busy": "2025-04-15T11:31:56.611769Z",
     "iopub.status.idle": "2025-04-15T11:31:56.640963Z",
     "shell.execute_reply": "2025-04-15T11:31:56.639296Z"
    },
    "papermill": {
     "duration": 0.038425,
     "end_time": "2025-04-15T11:31:56.642730",
     "exception": false,
     "start_time": "2025-04-15T11:31:56.604305",
     "status": "completed"
    },
    "tags": []
   },
   "outputs": [
    {
     "data": {
      "text/html": [
       "<div>\n",
       "<style scoped>\n",
       "    .dataframe tbody tr th:only-of-type {\n",
       "        vertical-align: middle;\n",
       "    }\n",
       "\n",
       "    .dataframe tbody tr th {\n",
       "        vertical-align: top;\n",
       "    }\n",
       "\n",
       "    .dataframe thead th {\n",
       "        text-align: right;\n",
       "    }\n",
       "</style>\n",
       "<table border=\"1\" class=\"dataframe\">\n",
       "  <thead>\n",
       "    <tr style=\"text-align: right;\">\n",
       "      <th></th>\n",
       "      <th>MSSubClass</th>\n",
       "      <th>MSZoning</th>\n",
       "      <th>LotFrontage</th>\n",
       "      <th>LotArea</th>\n",
       "      <th>Street</th>\n",
       "      <th>Alley</th>\n",
       "      <th>LotShape</th>\n",
       "      <th>LandContour</th>\n",
       "      <th>Utilities</th>\n",
       "      <th>LotConfig</th>\n",
       "      <th>...</th>\n",
       "      <th>PoolArea</th>\n",
       "      <th>PoolQC</th>\n",
       "      <th>Fence</th>\n",
       "      <th>MiscFeature</th>\n",
       "      <th>MiscVal</th>\n",
       "      <th>MoSold</th>\n",
       "      <th>YrSold</th>\n",
       "      <th>SaleType</th>\n",
       "      <th>SaleCondition</th>\n",
       "      <th>SalePrice</th>\n",
       "    </tr>\n",
       "  </thead>\n",
       "  <tbody>\n",
       "    <tr>\n",
       "      <th>0</th>\n",
       "      <td>60</td>\n",
       "      <td>RL</td>\n",
       "      <td>65.0</td>\n",
       "      <td>8450</td>\n",
       "      <td>Pave</td>\n",
       "      <td>NaN</td>\n",
       "      <td>Reg</td>\n",
       "      <td>Lvl</td>\n",
       "      <td>AllPub</td>\n",
       "      <td>Inside</td>\n",
       "      <td>...</td>\n",
       "      <td>0</td>\n",
       "      <td>NaN</td>\n",
       "      <td>NaN</td>\n",
       "      <td>NaN</td>\n",
       "      <td>0</td>\n",
       "      <td>2</td>\n",
       "      <td>2008</td>\n",
       "      <td>WD</td>\n",
       "      <td>Normal</td>\n",
       "      <td>208500</td>\n",
       "    </tr>\n",
       "    <tr>\n",
       "      <th>1</th>\n",
       "      <td>20</td>\n",
       "      <td>RL</td>\n",
       "      <td>80.0</td>\n",
       "      <td>9600</td>\n",
       "      <td>Pave</td>\n",
       "      <td>NaN</td>\n",
       "      <td>Reg</td>\n",
       "      <td>Lvl</td>\n",
       "      <td>AllPub</td>\n",
       "      <td>FR2</td>\n",
       "      <td>...</td>\n",
       "      <td>0</td>\n",
       "      <td>NaN</td>\n",
       "      <td>NaN</td>\n",
       "      <td>NaN</td>\n",
       "      <td>0</td>\n",
       "      <td>5</td>\n",
       "      <td>2007</td>\n",
       "      <td>WD</td>\n",
       "      <td>Normal</td>\n",
       "      <td>181500</td>\n",
       "    </tr>\n",
       "    <tr>\n",
       "      <th>2</th>\n",
       "      <td>60</td>\n",
       "      <td>RL</td>\n",
       "      <td>68.0</td>\n",
       "      <td>11250</td>\n",
       "      <td>Pave</td>\n",
       "      <td>NaN</td>\n",
       "      <td>IR1</td>\n",
       "      <td>Lvl</td>\n",
       "      <td>AllPub</td>\n",
       "      <td>Inside</td>\n",
       "      <td>...</td>\n",
       "      <td>0</td>\n",
       "      <td>NaN</td>\n",
       "      <td>NaN</td>\n",
       "      <td>NaN</td>\n",
       "      <td>0</td>\n",
       "      <td>9</td>\n",
       "      <td>2008</td>\n",
       "      <td>WD</td>\n",
       "      <td>Normal</td>\n",
       "      <td>223500</td>\n",
       "    </tr>\n",
       "    <tr>\n",
       "      <th>3</th>\n",
       "      <td>70</td>\n",
       "      <td>RL</td>\n",
       "      <td>60.0</td>\n",
       "      <td>9550</td>\n",
       "      <td>Pave</td>\n",
       "      <td>NaN</td>\n",
       "      <td>IR1</td>\n",
       "      <td>Lvl</td>\n",
       "      <td>AllPub</td>\n",
       "      <td>Corner</td>\n",
       "      <td>...</td>\n",
       "      <td>0</td>\n",
       "      <td>NaN</td>\n",
       "      <td>NaN</td>\n",
       "      <td>NaN</td>\n",
       "      <td>0</td>\n",
       "      <td>2</td>\n",
       "      <td>2006</td>\n",
       "      <td>WD</td>\n",
       "      <td>Abnorml</td>\n",
       "      <td>140000</td>\n",
       "    </tr>\n",
       "    <tr>\n",
       "      <th>4</th>\n",
       "      <td>60</td>\n",
       "      <td>RL</td>\n",
       "      <td>84.0</td>\n",
       "      <td>14260</td>\n",
       "      <td>Pave</td>\n",
       "      <td>NaN</td>\n",
       "      <td>IR1</td>\n",
       "      <td>Lvl</td>\n",
       "      <td>AllPub</td>\n",
       "      <td>FR2</td>\n",
       "      <td>...</td>\n",
       "      <td>0</td>\n",
       "      <td>NaN</td>\n",
       "      <td>NaN</td>\n",
       "      <td>NaN</td>\n",
       "      <td>0</td>\n",
       "      <td>12</td>\n",
       "      <td>2008</td>\n",
       "      <td>WD</td>\n",
       "      <td>Normal</td>\n",
       "      <td>250000</td>\n",
       "    </tr>\n",
       "  </tbody>\n",
       "</table>\n",
       "<p>5 rows × 80 columns</p>\n",
       "</div>"
      ],
      "text/plain": [
       "   MSSubClass MSZoning  LotFrontage  LotArea Street Alley LotShape  \\\n",
       "0          60       RL         65.0     8450   Pave   NaN      Reg   \n",
       "1          20       RL         80.0     9600   Pave   NaN      Reg   \n",
       "2          60       RL         68.0    11250   Pave   NaN      IR1   \n",
       "3          70       RL         60.0     9550   Pave   NaN      IR1   \n",
       "4          60       RL         84.0    14260   Pave   NaN      IR1   \n",
       "\n",
       "  LandContour Utilities LotConfig  ... PoolArea PoolQC Fence MiscFeature  \\\n",
       "0         Lvl    AllPub    Inside  ...        0    NaN   NaN         NaN   \n",
       "1         Lvl    AllPub       FR2  ...        0    NaN   NaN         NaN   \n",
       "2         Lvl    AllPub    Inside  ...        0    NaN   NaN         NaN   \n",
       "3         Lvl    AllPub    Corner  ...        0    NaN   NaN         NaN   \n",
       "4         Lvl    AllPub       FR2  ...        0    NaN   NaN         NaN   \n",
       "\n",
       "  MiscVal MoSold  YrSold  SaleType  SaleCondition  SalePrice  \n",
       "0       0      2    2008        WD         Normal     208500  \n",
       "1       0      5    2007        WD         Normal     181500  \n",
       "2       0      9    2008        WD         Normal     223500  \n",
       "3       0      2    2006        WD        Abnorml     140000  \n",
       "4       0     12    2008        WD         Normal     250000  \n",
       "\n",
       "[5 rows x 80 columns]"
      ]
     },
     "execution_count": 4,
     "metadata": {},
     "output_type": "execute_result"
    }
   ],
   "source": [
    "df = train_df.copy()\n",
    "df = df.drop('Id', axis=1) #ID makes no sense for our future analysis \n",
    "df.head()"
   ]
  },
  {
   "cell_type": "code",
   "execution_count": 5,
   "id": "805c91ad",
   "metadata": {
    "collapsed": true,
    "execution": {
     "iopub.execute_input": "2025-04-15T11:31:56.661656Z",
     "iopub.status.busy": "2025-04-15T11:31:56.661064Z",
     "iopub.status.idle": "2025-04-15T11:31:56.690436Z",
     "shell.execute_reply": "2025-04-15T11:31:56.688850Z"
    },
    "jupyter": {
     "outputs_hidden": true
    },
    "papermill": {
     "duration": 0.040933,
     "end_time": "2025-04-15T11:31:56.692178",
     "exception": false,
     "start_time": "2025-04-15T11:31:56.651245",
     "status": "completed"
    },
    "tags": []
   },
   "outputs": [
    {
     "name": "stdout",
     "output_type": "stream",
     "text": [
      "<class 'pandas.core.frame.DataFrame'>\n",
      "RangeIndex: 1460 entries, 0 to 1459\n",
      "Data columns (total 80 columns):\n",
      " #   Column         Non-Null Count  Dtype  \n",
      "---  ------         --------------  -----  \n",
      " 0   MSSubClass     1460 non-null   int64  \n",
      " 1   MSZoning       1460 non-null   object \n",
      " 2   LotFrontage    1201 non-null   float64\n",
      " 3   LotArea        1460 non-null   int64  \n",
      " 4   Street         1460 non-null   object \n",
      " 5   Alley          91 non-null     object \n",
      " 6   LotShape       1460 non-null   object \n",
      " 7   LandContour    1460 non-null   object \n",
      " 8   Utilities      1460 non-null   object \n",
      " 9   LotConfig      1460 non-null   object \n",
      " 10  LandSlope      1460 non-null   object \n",
      " 11  Neighborhood   1460 non-null   object \n",
      " 12  Condition1     1460 non-null   object \n",
      " 13  Condition2     1460 non-null   object \n",
      " 14  BldgType       1460 non-null   object \n",
      " 15  HouseStyle     1460 non-null   object \n",
      " 16  OverallQual    1460 non-null   int64  \n",
      " 17  OverallCond    1460 non-null   int64  \n",
      " 18  YearBuilt      1460 non-null   int64  \n",
      " 19  YearRemodAdd   1460 non-null   int64  \n",
      " 20  RoofStyle      1460 non-null   object \n",
      " 21  RoofMatl       1460 non-null   object \n",
      " 22  Exterior1st    1460 non-null   object \n",
      " 23  Exterior2nd    1460 non-null   object \n",
      " 24  MasVnrType     588 non-null    object \n",
      " 25  MasVnrArea     1452 non-null   float64\n",
      " 26  ExterQual      1460 non-null   object \n",
      " 27  ExterCond      1460 non-null   object \n",
      " 28  Foundation     1460 non-null   object \n",
      " 29  BsmtQual       1423 non-null   object \n",
      " 30  BsmtCond       1423 non-null   object \n",
      " 31  BsmtExposure   1422 non-null   object \n",
      " 32  BsmtFinType1   1423 non-null   object \n",
      " 33  BsmtFinSF1     1460 non-null   int64  \n",
      " 34  BsmtFinType2   1422 non-null   object \n",
      " 35  BsmtFinSF2     1460 non-null   int64  \n",
      " 36  BsmtUnfSF      1460 non-null   int64  \n",
      " 37  TotalBsmtSF    1460 non-null   int64  \n",
      " 38  Heating        1460 non-null   object \n",
      " 39  HeatingQC      1460 non-null   object \n",
      " 40  CentralAir     1460 non-null   object \n",
      " 41  Electrical     1459 non-null   object \n",
      " 42  1stFlrSF       1460 non-null   int64  \n",
      " 43  2ndFlrSF       1460 non-null   int64  \n",
      " 44  LowQualFinSF   1460 non-null   int64  \n",
      " 45  GrLivArea      1460 non-null   int64  \n",
      " 46  BsmtFullBath   1460 non-null   int64  \n",
      " 47  BsmtHalfBath   1460 non-null   int64  \n",
      " 48  FullBath       1460 non-null   int64  \n",
      " 49  HalfBath       1460 non-null   int64  \n",
      " 50  BedroomAbvGr   1460 non-null   int64  \n",
      " 51  KitchenAbvGr   1460 non-null   int64  \n",
      " 52  KitchenQual    1460 non-null   object \n",
      " 53  TotRmsAbvGrd   1460 non-null   int64  \n",
      " 54  Functional     1460 non-null   object \n",
      " 55  Fireplaces     1460 non-null   int64  \n",
      " 56  FireplaceQu    770 non-null    object \n",
      " 57  GarageType     1379 non-null   object \n",
      " 58  GarageYrBlt    1379 non-null   float64\n",
      " 59  GarageFinish   1379 non-null   object \n",
      " 60  GarageCars     1460 non-null   int64  \n",
      " 61  GarageArea     1460 non-null   int64  \n",
      " 62  GarageQual     1379 non-null   object \n",
      " 63  GarageCond     1379 non-null   object \n",
      " 64  PavedDrive     1460 non-null   object \n",
      " 65  WoodDeckSF     1460 non-null   int64  \n",
      " 66  OpenPorchSF    1460 non-null   int64  \n",
      " 67  EnclosedPorch  1460 non-null   int64  \n",
      " 68  3SsnPorch      1460 non-null   int64  \n",
      " 69  ScreenPorch    1460 non-null   int64  \n",
      " 70  PoolArea       1460 non-null   int64  \n",
      " 71  PoolQC         7 non-null      object \n",
      " 72  Fence          281 non-null    object \n",
      " 73  MiscFeature    54 non-null     object \n",
      " 74  MiscVal        1460 non-null   int64  \n",
      " 75  MoSold         1460 non-null   int64  \n",
      " 76  YrSold         1460 non-null   int64  \n",
      " 77  SaleType       1460 non-null   object \n",
      " 78  SaleCondition  1460 non-null   object \n",
      " 79  SalePrice      1460 non-null   int64  \n",
      "dtypes: float64(3), int64(34), object(43)\n",
      "memory usage: 912.6+ KB\n"
     ]
    }
   ],
   "source": [
    "df.info() #We can inspect the types of feature columns"
   ]
  },
  {
   "cell_type": "code",
   "execution_count": 6,
   "id": "effecde2",
   "metadata": {
    "execution": {
     "iopub.execute_input": "2025-04-15T11:31:56.708263Z",
     "iopub.status.busy": "2025-04-15T11:31:56.707974Z",
     "iopub.status.idle": "2025-04-15T11:31:57.252996Z",
     "shell.execute_reply": "2025-04-15T11:31:57.251914Z"
    },
    "papermill": {
     "duration": 0.554482,
     "end_time": "2025-04-15T11:31:57.254831",
     "exception": false,
     "start_time": "2025-04-15T11:31:56.700349",
     "status": "completed"
    },
    "tags": []
   },
   "outputs": [
    {
     "name": "stdout",
     "output_type": "stream",
     "text": [
      "count      1460.000000\n",
      "mean     180921.195890\n",
      "std       79442.502883\n",
      "min       34900.000000\n",
      "25%      129975.000000\n",
      "50%      163000.000000\n",
      "75%      214000.000000\n",
      "max      755000.000000\n",
      "Name: SalePrice, dtype: float64\n"
     ]
    },
    {
     "name": "stderr",
     "output_type": "stream",
     "text": [
      "/usr/local/lib/python3.11/dist-packages/seaborn/_oldcore.py:1119: FutureWarning: use_inf_as_na option is deprecated and will be removed in a future version. Convert inf values to NaN before operating instead.\n",
      "  with pd.option_context('mode.use_inf_as_na', True):\n"
     ]
    },
    {
     "data": {
      "image/png": "[encoded data removed]",
      "text/plain": [
       "<Figure size 1000x600 with 1 Axes>"
      ]
     },
     "metadata": {},
     "output_type": "display_data"
    }
   ],
   "source": [
    "# Let's visualize the distribution of the target variable 'SalePrice'\n",
    "# This helps us understand skewness, potential outliers, and overall spread\n",
    "print(df['SalePrice'].describe())\n",
    "\n",
    "plt.figure(figsize=(10,6))\n",
    "sns.histplot(df['SalePrice'], kde=True, bins=30)\n",
    "plt.title('Distribution of SalePrice')\n",
    "plt.xlabel('SalePrice')\n",
    "plt.ylabel('Count')\n",
    "plt.show()"
   ]
  },
  {
   "cell_type": "code",
   "execution_count": 7,
   "id": "5cb39d92",
   "metadata": {
    "execution": {
     "iopub.execute_input": "2025-04-15T11:31:57.273856Z",
     "iopub.status.busy": "2025-04-15T11:31:57.273554Z",
     "iopub.status.idle": "2025-04-15T11:32:06.726065Z",
     "shell.execute_reply": "2025-04-15T11:32:06.725086Z"
    },
    "papermill": {
     "duration": 9.465643,
     "end_time": "2025-04-15T11:32:06.730336",
     "exception": false,
     "start_time": "2025-04-15T11:31:57.264693",
     "status": "completed"
    },
    "tags": []
   },
   "outputs": [
    {
     "data": {
      "image/png": "[encoded data removed]",
      "text/plain": [
       "<Figure size 2000x1500 with 36 Axes>"
      ]
     },
     "metadata": {},
     "output_type": "display_data"
    }
   ],
   "source": [
    "# Select all numerical columns except the target\n",
    "num_df = df.select_dtypes(include=['int64', 'float64']).drop('SalePrice', axis=1)\n",
    "\n",
    "# Plot histograms for each numerical feature\n",
    "num_df.hist(bins=30, figsize=(20, 15), xlabelsize= 8, ylabelsize= 8)\n",
    "plt.tight_layout()\n",
    "plt.show()"
   ]
  },
  {
   "cell_type": "code",
   "execution_count": 8,
   "id": "2f560f9e",
   "metadata": {
    "execution": {
     "iopub.execute_input": "2025-04-15T11:32:06.753888Z",
     "iopub.status.busy": "2025-04-15T11:32:06.753574Z",
     "iopub.status.idle": "2025-04-15T11:32:06.766311Z",
     "shell.execute_reply": "2025-04-15T11:32:06.765013Z"
    },
    "papermill": {
     "duration": 0.026235,
     "end_time": "2025-04-15T11:32:06.767929",
     "exception": false,
     "start_time": "2025-04-15T11:32:06.741694",
     "status": "completed"
    },
    "tags": []
   },
   "outputs": [
    {
     "data": {
      "text/plain": [
       "PoolQC          1453\n",
       "MiscFeature     1406\n",
       "Alley           1369\n",
       "Fence           1179\n",
       "MasVnrType       872\n",
       "FireplaceQu      690\n",
       "LotFrontage      259\n",
       "GarageType        81\n",
       "GarageYrBlt       81\n",
       "GarageFinish      81\n",
       "GarageQual        81\n",
       "GarageCond        81\n",
       "BsmtFinType2      38\n",
       "BsmtExposure      38\n",
       "BsmtFinType1      37\n",
       "BsmtCond          37\n",
       "BsmtQual          37\n",
       "MasVnrArea         8\n",
       "Electrical         1\n",
       "dtype: int64"
      ]
     },
     "execution_count": 8,
     "metadata": {},
     "output_type": "execute_result"
    }
   ],
   "source": [
    "# Count missing values in each column\n",
    "missing_v = df.isnull().sum()\n",
    "\n",
    "# Filter only columns with at least one missing value and sort them descending\n",
    "missing_v[missing_v > 0].sort_values(ascending=False)"
   ]
  },
  {
   "cell_type": "markdown",
   "id": "5bb21cc0",
   "metadata": {
    "papermill": {
     "duration": 0.010522,
     "end_time": "2025-04-15T11:32:06.789539",
     "exception": false,
     "start_time": "2025-04-15T11:32:06.779017",
     "status": "completed"
    },
    "tags": []
   },
   "source": [
    "##  Data Preprocessing: Handling Missing Values and Feature Selection\n",
    "\n",
    "This dataset contains a mix of numeric, categorical and missing features. Before training our model, we need to handle missing data and remove features that are either too sparse or not informative.  \n",
    "We'll also separate numerical and categorical columns for further preprocessing steps.\n"
   ]
  },
  {
   "cell_type": "code",
   "execution_count": 9,
   "id": "4820ae0a",
   "metadata": {
    "execution": {
     "iopub.execute_input": "2025-04-15T11:32:06.812514Z",
     "iopub.status.busy": "2025-04-15T11:32:06.812120Z",
     "iopub.status.idle": "2025-04-15T11:32:06.821017Z",
     "shell.execute_reply": "2025-04-15T11:32:06.820168Z"
    },
    "papermill": {
     "duration": 0.021988,
     "end_time": "2025-04-15T11:32:06.822483",
     "exception": false,
     "start_time": "2025-04-15T11:32:06.800495",
     "status": "completed"
    },
    "tags": []
   },
   "outputs": [],
   "source": [
    "# Drop columns with a high percentage of missing values or low predictive power\n",
    "df = df.drop(columns=[\"Alley\", \"PoolQC\", \"Fence\", \"MiscFeature\"])\n",
    "\n",
    "# Select numerical features (excluding the target 'SalePrice') and categorical features\n",
    "num_cols = df.select_dtypes(include=['float64', 'int64']).columns.drop('SalePrice')\n",
    "cat_cols = df.select_dtypes(include=['object']).columns"
   ]
  },
  {
   "cell_type": "markdown",
   "id": "5282ef20",
   "metadata": {
    "papermill": {
     "duration": 0.01111,
     "end_time": "2025-04-15T11:32:06.845625",
     "exception": false,
     "start_time": "2025-04-15T11:32:06.834515",
     "status": "completed"
    },
    "tags": []
   },
   "source": [
    "## Imputing Missing Values\n",
    "\n",
    "To ensure our model can handle incomplete data, we fill missing values using appropriate strategies:\n"
   ]
  },
  {
   "cell_type": "code",
   "execution_count": 10,
   "id": "89c8581b",
   "metadata": {
    "execution": {
     "iopub.execute_input": "2025-04-15T11:32:06.870869Z",
     "iopub.status.busy": "2025-04-15T11:32:06.870541Z",
     "iopub.status.idle": "2025-04-15T11:32:06.917484Z",
     "shell.execute_reply": "2025-04-15T11:32:06.916521Z"
    },
    "papermill": {
     "duration": 0.060956,
     "end_time": "2025-04-15T11:32:06.919086",
     "exception": false,
     "start_time": "2025-04-15T11:32:06.858130",
     "status": "completed"
    },
    "tags": []
   },
   "outputs": [],
   "source": [
    "from sklearn.impute import SimpleImputer\n",
    "\n",
    "# Create imputers: one for numerical (median), one for categorical (fill with 'Unknown')\n",
    "num_imputer = SimpleImputer(strategy='median')\n",
    "cat_imputer = SimpleImputer(strategy='constant', fill_value='Unknown')\n",
    "\n",
    "# Apply imputers to the corresponding columns and overwrite missing values\n",
    "df[num_cols] = pd.DataFrame(num_imputer.fit_transform(df[num_cols]), columns=num_cols, index= df.index)\n",
    "df[cat_cols] = pd.DataFrame(cat_imputer.fit_transform(df[cat_cols]), columns=cat_cols, index= df.index)"
   ]
  },
  {
   "cell_type": "code",
   "execution_count": 11,
   "id": "35812352",
   "metadata": {
    "execution": {
     "iopub.execute_input": "2025-04-15T11:32:06.943244Z",
     "iopub.status.busy": "2025-04-15T11:32:06.942486Z",
     "iopub.status.idle": "2025-04-15T11:32:06.955329Z",
     "shell.execute_reply": "2025-04-15T11:32:06.954342Z"
    },
    "papermill": {
     "duration": 0.027494,
     "end_time": "2025-04-15T11:32:06.957623",
     "exception": false,
     "start_time": "2025-04-15T11:32:06.930129",
     "status": "completed"
    },
    "tags": []
   },
   "outputs": [
    {
     "name": "stdout",
     "output_type": "stream",
     "text": [
      "MSZoning: 5 unique values\n",
      "Street: 2 unique values\n",
      "LotShape: 4 unique values\n",
      "LandContour: 4 unique values\n",
      "Utilities: 2 unique values\n",
      "LotConfig: 5 unique values\n",
      "LandSlope: 3 unique values\n",
      "Neighborhood: 25 unique values\n",
      "Condition1: 9 unique values\n",
      "Condition2: 8 unique values\n",
      "BldgType: 5 unique values\n",
      "HouseStyle: 8 unique values\n",
      "RoofStyle: 6 unique values\n",
      "RoofMatl: 8 unique values\n",
      "Exterior1st: 15 unique values\n",
      "Exterior2nd: 16 unique values\n",
      "MasVnrType: 4 unique values\n",
      "ExterQual: 4 unique values\n",
      "ExterCond: 5 unique values\n",
      "Foundation: 6 unique values\n",
      "BsmtQual: 5 unique values\n",
      "BsmtCond: 5 unique values\n",
      "BsmtExposure: 5 unique values\n",
      "BsmtFinType1: 7 unique values\n",
      "BsmtFinType2: 7 unique values\n",
      "Heating: 6 unique values\n",
      "HeatingQC: 5 unique values\n",
      "CentralAir: 2 unique values\n",
      "Electrical: 6 unique values\n",
      "KitchenQual: 4 unique values\n",
      "Functional: 7 unique values\n",
      "FireplaceQu: 6 unique values\n",
      "GarageType: 7 unique values\n",
      "GarageFinish: 4 unique values\n",
      "GarageQual: 6 unique values\n",
      "GarageCond: 6 unique values\n",
      "PavedDrive: 3 unique values\n",
      "SaleType: 9 unique values\n",
      "SaleCondition: 6 unique values\n"
     ]
    }
   ],
   "source": [
    "# Print the number of unique categories for each categorical feature (cardinality)\n",
    "# Helps decide whether One-Hot Encoding is appropriate\n",
    "for col in cat_cols:\n",
    "    print(f\"{col}: {df[col].nunique()} unique values\")"
   ]
  },
  {
   "cell_type": "markdown",
   "id": "b642f596",
   "metadata": {
    "papermill": {
     "duration": 0.010622,
     "end_time": "2025-04-15T11:32:06.980255",
     "exception": false,
     "start_time": "2025-04-15T11:32:06.969633",
     "status": "completed"
    },
    "tags": []
   },
   "source": [
    "## Encoding Categorical Variables\n",
    "\n",
    "We now encode the cleaned categorical features using **One-Hot Encoding**.  \n",
    "To prevent errors on unseen categories during inference, we use `handle_unknown='ignore'`.  \n",
    "The final dataset is formed by combining numerical features with the encoded categorical features.\n"
   ]
  },
  {
   "cell_type": "code",
   "execution_count": 12,
   "id": "8ee6b2c7",
   "metadata": {
    "execution": {
     "iopub.execute_input": "2025-04-15T11:32:07.003975Z",
     "iopub.status.busy": "2025-04-15T11:32:07.003664Z",
     "iopub.status.idle": "2025-04-15T11:32:07.070895Z",
     "shell.execute_reply": "2025-04-15T11:32:07.070009Z"
    },
    "papermill": {
     "duration": 0.080696,
     "end_time": "2025-04-15T11:32:07.072398",
     "exception": false,
     "start_time": "2025-04-15T11:32:06.991702",
     "status": "completed"
    },
    "tags": []
   },
   "outputs": [
    {
     "name": "stdout",
     "output_type": "stream",
     "text": [
      "(1460, 286)\n"
     ]
    },
    {
     "data": {
      "text/html": [
       "<div>\n",
       "<style scoped>\n",
       "    .dataframe tbody tr th:only-of-type {\n",
       "        vertical-align: middle;\n",
       "    }\n",
       "\n",
       "    .dataframe tbody tr th {\n",
       "        vertical-align: top;\n",
       "    }\n",
       "\n",
       "    .dataframe thead th {\n",
       "        text-align: right;\n",
       "    }\n",
       "</style>\n",
       "<table border=\"1\" class=\"dataframe\">\n",
       "  <thead>\n",
       "    <tr style=\"text-align: right;\">\n",
       "      <th></th>\n",
       "      <th>MSSubClass</th>\n",
       "      <th>LotFrontage</th>\n",
       "      <th>LotArea</th>\n",
       "      <th>OverallQual</th>\n",
       "      <th>OverallCond</th>\n",
       "      <th>YearBuilt</th>\n",
       "      <th>YearRemodAdd</th>\n",
       "      <th>MasVnrArea</th>\n",
       "      <th>BsmtFinSF1</th>\n",
       "      <th>BsmtFinSF2</th>\n",
       "      <th>...</th>\n",
       "      <th>SaleType_ConLw</th>\n",
       "      <th>SaleType_New</th>\n",
       "      <th>SaleType_Oth</th>\n",
       "      <th>SaleType_WD</th>\n",
       "      <th>SaleCondition_Abnorml</th>\n",
       "      <th>SaleCondition_AdjLand</th>\n",
       "      <th>SaleCondition_Alloca</th>\n",
       "      <th>SaleCondition_Family</th>\n",
       "      <th>SaleCondition_Normal</th>\n",
       "      <th>SaleCondition_Partial</th>\n",
       "    </tr>\n",
       "  </thead>\n",
       "  <tbody>\n",
       "    <tr>\n",
       "      <th>0</th>\n",
       "      <td>60.0</td>\n",
       "      <td>65.0</td>\n",
       "      <td>8450.0</td>\n",
       "      <td>7.0</td>\n",
       "      <td>5.0</td>\n",
       "      <td>2003.0</td>\n",
       "      <td>2003.0</td>\n",
       "      <td>196.0</td>\n",
       "      <td>706.0</td>\n",
       "      <td>0.0</td>\n",
       "      <td>...</td>\n",
       "      <td>0.0</td>\n",
       "      <td>0.0</td>\n",
       "      <td>0.0</td>\n",
       "      <td>1.0</td>\n",
       "      <td>0.0</td>\n",
       "      <td>0.0</td>\n",
       "      <td>0.0</td>\n",
       "      <td>0.0</td>\n",
       "      <td>1.0</td>\n",
       "      <td>0.0</td>\n",
       "    </tr>\n",
       "    <tr>\n",
       "      <th>1</th>\n",
       "      <td>20.0</td>\n",
       "      <td>80.0</td>\n",
       "      <td>9600.0</td>\n",
       "      <td>6.0</td>\n",
       "      <td>8.0</td>\n",
       "      <td>1976.0</td>\n",
       "      <td>1976.0</td>\n",
       "      <td>0.0</td>\n",
       "      <td>978.0</td>\n",
       "      <td>0.0</td>\n",
       "      <td>...</td>\n",
       "      <td>0.0</td>\n",
       "      <td>0.0</td>\n",
       "      <td>0.0</td>\n",
       "      <td>1.0</td>\n",
       "      <td>0.0</td>\n",
       "      <td>0.0</td>\n",
       "      <td>0.0</td>\n",
       "      <td>0.0</td>\n",
       "      <td>1.0</td>\n",
       "      <td>0.0</td>\n",
       "    </tr>\n",
       "    <tr>\n",
       "      <th>2</th>\n",
       "      <td>60.0</td>\n",
       "      <td>68.0</td>\n",
       "      <td>11250.0</td>\n",
       "      <td>7.0</td>\n",
       "      <td>5.0</td>\n",
       "      <td>2001.0</td>\n",
       "      <td>2002.0</td>\n",
       "      <td>162.0</td>\n",
       "      <td>486.0</td>\n",
       "      <td>0.0</td>\n",
       "      <td>...</td>\n",
       "      <td>0.0</td>\n",
       "      <td>0.0</td>\n",
       "      <td>0.0</td>\n",
       "      <td>1.0</td>\n",
       "      <td>0.0</td>\n",
       "      <td>0.0</td>\n",
       "      <td>0.0</td>\n",
       "      <td>0.0</td>\n",
       "      <td>1.0</td>\n",
       "      <td>0.0</td>\n",
       "    </tr>\n",
       "    <tr>\n",
       "      <th>3</th>\n",
       "      <td>70.0</td>\n",
       "      <td>60.0</td>\n",
       "      <td>9550.0</td>\n",
       "      <td>7.0</td>\n",
       "      <td>5.0</td>\n",
       "      <td>1915.0</td>\n",
       "      <td>1970.0</td>\n",
       "      <td>0.0</td>\n",
       "      <td>216.0</td>\n",
       "      <td>0.0</td>\n",
       "      <td>...</td>\n",
       "      <td>0.0</td>\n",
       "      <td>0.0</td>\n",
       "      <td>0.0</td>\n",
       "      <td>1.0</td>\n",
       "      <td>1.0</td>\n",
       "      <td>0.0</td>\n",
       "      <td>0.0</td>\n",
       "      <td>0.0</td>\n",
       "      <td>0.0</td>\n",
       "      <td>0.0</td>\n",
       "    </tr>\n",
       "    <tr>\n",
       "      <th>4</th>\n",
       "      <td>60.0</td>\n",
       "      <td>84.0</td>\n",
       "      <td>14260.0</td>\n",
       "      <td>8.0</td>\n",
       "      <td>5.0</td>\n",
       "      <td>2000.0</td>\n",
       "      <td>2000.0</td>\n",
       "      <td>350.0</td>\n",
       "      <td>655.0</td>\n",
       "      <td>0.0</td>\n",
       "      <td>...</td>\n",
       "      <td>0.0</td>\n",
       "      <td>0.0</td>\n",
       "      <td>0.0</td>\n",
       "      <td>1.0</td>\n",
       "      <td>0.0</td>\n",
       "      <td>0.0</td>\n",
       "      <td>0.0</td>\n",
       "      <td>0.0</td>\n",
       "      <td>1.0</td>\n",
       "      <td>0.0</td>\n",
       "    </tr>\n",
       "  </tbody>\n",
       "</table>\n",
       "<p>5 rows × 286 columns</p>\n",
       "</div>"
      ],
      "text/plain": [
       "   MSSubClass  LotFrontage  LotArea  OverallQual  OverallCond  YearBuilt  \\\n",
       "0        60.0         65.0   8450.0          7.0          5.0     2003.0   \n",
       "1        20.0         80.0   9600.0          6.0          8.0     1976.0   \n",
       "2        60.0         68.0  11250.0          7.0          5.0     2001.0   \n",
       "3        70.0         60.0   9550.0          7.0          5.0     1915.0   \n",
       "4        60.0         84.0  14260.0          8.0          5.0     2000.0   \n",
       "\n",
       "   YearRemodAdd  MasVnrArea  BsmtFinSF1  BsmtFinSF2  ...  SaleType_ConLw  \\\n",
       "0        2003.0       196.0       706.0         0.0  ...             0.0   \n",
       "1        1976.0         0.0       978.0         0.0  ...             0.0   \n",
       "2        2002.0       162.0       486.0         0.0  ...             0.0   \n",
       "3        1970.0         0.0       216.0         0.0  ...             0.0   \n",
       "4        2000.0       350.0       655.0         0.0  ...             0.0   \n",
       "\n",
       "   SaleType_New  SaleType_Oth  SaleType_WD  SaleCondition_Abnorml  \\\n",
       "0           0.0           0.0          1.0                    0.0   \n",
       "1           0.0           0.0          1.0                    0.0   \n",
       "2           0.0           0.0          1.0                    0.0   \n",
       "3           0.0           0.0          1.0                    1.0   \n",
       "4           0.0           0.0          1.0                    0.0   \n",
       "\n",
       "   SaleCondition_AdjLand  SaleCondition_Alloca  SaleCondition_Family  \\\n",
       "0                    0.0                   0.0                   0.0   \n",
       "1                    0.0                   0.0                   0.0   \n",
       "2                    0.0                   0.0                   0.0   \n",
       "3                    0.0                   0.0                   0.0   \n",
       "4                    0.0                   0.0                   0.0   \n",
       "\n",
       "   SaleCondition_Normal  SaleCondition_Partial  \n",
       "0                   1.0                    0.0  \n",
       "1                   1.0                    0.0  \n",
       "2                   1.0                    0.0  \n",
       "3                   0.0                    0.0  \n",
       "4                   1.0                    0.0  \n",
       "\n",
       "[5 rows x 286 columns]"
      ]
     },
     "execution_count": 12,
     "metadata": {},
     "output_type": "execute_result"
    }
   ],
   "source": [
    "from sklearn.preprocessing import OneHotEncoder\n",
    "\n",
    "# Initialize OneHotEncoder\n",
    "ohe = OneHotEncoder(sparse_output=False, handle_unknown='ignore')\n",
    "\n",
    "# Fit encoder on categorical columns and transform them into one-hot encoded array\n",
    "cat_encoded = ohe.fit_transform(df[cat_cols])\n",
    "encoded_cols = ohe.get_feature_names_out(cat_cols) # Get the names of the new one-hot encoded columns\n",
    "df_cat_encoded = pd.DataFrame(cat_encoded, columns = encoded_cols, index=df.index) # Create a DataFrame from the encoded array, using the original index\n",
    "\n",
    "# Concatenate numerical and encoded categorical features into a final dataset\n",
    "df_final = pd.concat([df[num_cols], df_cat_encoded], axis=1)\n",
    "\n",
    "print(df_final.shape)\n",
    "df_final.head()"
   ]
  },
  {
   "cell_type": "markdown",
   "id": "bb32ffb6",
   "metadata": {
    "papermill": {
     "duration": 0.011063,
     "end_time": "2025-04-15T11:32:07.095044",
     "exception": false,
     "start_time": "2025-04-15T11:32:07.083981",
     "status": "completed"
    },
    "tags": []
   },
   "source": [
    "## Log-Transforming the Target Variable\n",
    "\n",
    "To reduce the skewness of the `SalePrice` distribution and improve model performance,  \n",
    "we apply a log transformation to the target variable.  \n",
    "The visualization below compares the original and log-transformed distributions.\n"
   ]
  },
  {
   "cell_type": "code",
   "execution_count": 13,
   "id": "6c7d9e57",
   "metadata": {
    "execution": {
     "iopub.execute_input": "2025-04-15T11:32:07.119143Z",
     "iopub.status.busy": "2025-04-15T11:32:07.118830Z",
     "iopub.status.idle": "2025-04-15T11:32:07.123660Z",
     "shell.execute_reply": "2025-04-15T11:32:07.122744Z"
    },
    "papermill": {
     "duration": 0.01888,
     "end_time": "2025-04-15T11:32:07.125359",
     "exception": false,
     "start_time": "2025-04-15T11:32:07.106479",
     "status": "completed"
    },
    "tags": []
   },
   "outputs": [],
   "source": [
    "# Define features (X) and apply log-transform to the target variable (y)\n",
    "X = df_final\n",
    "y = np.log(df['SalePrice'])"
   ]
  },
  {
   "cell_type": "code",
   "execution_count": 14,
   "id": "bcf80279",
   "metadata": {
    "execution": {
     "iopub.execute_input": "2025-04-15T11:32:07.149839Z",
     "iopub.status.busy": "2025-04-15T11:32:07.149533Z",
     "iopub.status.idle": "2025-04-15T11:32:07.964737Z",
     "shell.execute_reply": "2025-04-15T11:32:07.963646Z"
    },
    "papermill": {
     "duration": 0.829781,
     "end_time": "2025-04-15T11:32:07.966864",
     "exception": false,
     "start_time": "2025-04-15T11:32:07.137083",
     "status": "completed"
    },
    "tags": []
   },
   "outputs": [
    {
     "name": "stderr",
     "output_type": "stream",
     "text": [
      "/usr/local/lib/python3.11/dist-packages/seaborn/_oldcore.py:1119: FutureWarning: use_inf_as_na option is deprecated and will be removed in a future version. Convert inf values to NaN before operating instead.\n",
      "  with pd.option_context('mode.use_inf_as_na', True):\n",
      "/usr/local/lib/python3.11/dist-packages/seaborn/_oldcore.py:1119: FutureWarning: use_inf_as_na option is deprecated and will be removed in a future version. Convert inf values to NaN before operating instead.\n",
      "  with pd.option_context('mode.use_inf_as_na', True):\n"
     ]
    },
    {
     "data": {
      "image/png": "[encoded data removed]",
      "text/plain": [
       "<Figure size 1400x500 with 2 Axes>"
      ]
     },
     "metadata": {},
     "output_type": "display_data"
    }
   ],
   "source": [
    "# Compare original vs log-transformed target distribution\n",
    "plt.figure(figsize=(14, 5))\n",
    "\n",
    "# Plot original SalePrice\n",
    "plt.subplot(1, 2, 1)\n",
    "sns.histplot(df[\"SalePrice\"], kde=True, bins=30)\n",
    "plt.title(\"SalePrice\")\n",
    "\n",
    "# Plot log-transformed SalePrice\n",
    "plt.subplot(1, 2, 2)\n",
    "sns.histplot(y, kde=True, bins=30, color='green')\n",
    "plt.title(\"Log SalePrice\")\n",
    "\n",
    "plt.tight_layout()\n",
    "plt.show()"
   ]
  },
  {
   "cell_type": "markdown",
   "id": "59ab1de0",
   "metadata": {
    "papermill": {
     "duration": 0.012749,
     "end_time": "2025-04-15T11:32:07.993262",
     "exception": false,
     "start_time": "2025-04-15T11:32:07.980513",
     "status": "completed"
    },
    "tags": []
   },
   "source": [
    "The log-transformed `SalePrice` shows a more symmetrical and normalized distribution,  \n",
    "helping the model to better learn patterns and reduce the impact of outliers.\n"
   ]
  },
  {
   "cell_type": "markdown",
   "id": "b16acda8",
   "metadata": {
    "papermill": {
     "duration": 0.012815,
     "end_time": "2025-04-15T11:32:08.018830",
     "exception": false,
     "start_time": "2025-04-15T11:32:08.006015",
     "status": "completed"
    },
    "tags": []
   },
   "source": [
    "## Model Evaluation and Hyperparameter Tuning\n",
    "\n",
    "We split our dataset into training and validation sets and define a reusable function to evaluate model performance using RMSLE — a metric suitable for log-transformed targets.\n",
    "\n",
    "Next, we perform a simple grid search over different values of `n_estimators` and `max_depth`  \n",
    "to identify the best-performing Random Forest configuration.\n"
   ]
  },
  {
   "cell_type": "code",
   "execution_count": 15,
   "id": "b5429f6d",
   "metadata": {
    "execution": {
     "iopub.execute_input": "2025-04-15T11:32:08.045771Z",
     "iopub.status.busy": "2025-04-15T11:32:08.045426Z",
     "iopub.status.idle": "2025-04-15T11:32:08.054094Z",
     "shell.execute_reply": "2025-04-15T11:32:08.053097Z"
    },
    "papermill": {
     "duration": 0.024204,
     "end_time": "2025-04-15T11:32:08.055842",
     "exception": false,
     "start_time": "2025-04-15T11:32:08.031638",
     "status": "completed"
    },
    "tags": []
   },
   "outputs": [],
   "source": [
    "from sklearn.model_selection import train_test_split\n",
    "from sklearn.metrics import mean_squared_log_error\n",
    "\n",
    "# Split the dataset into training and validation sets\n",
    "X_train, X_val, y_train, y_val = train_test_split(X, y, test_size=0.2, random_state=42)"
   ]
  },
  {
   "cell_type": "code",
   "execution_count": 16,
   "id": "04495fc6",
   "metadata": {
    "execution": {
     "iopub.execute_input": "2025-04-15T11:32:08.083311Z",
     "iopub.status.busy": "2025-04-15T11:32:08.082922Z",
     "iopub.status.idle": "2025-04-15T11:32:08.089231Z",
     "shell.execute_reply": "2025-04-15T11:32:08.088348Z"
    },
    "papermill": {
     "duration": 0.021767,
     "end_time": "2025-04-15T11:32:08.090977",
     "exception": false,
     "start_time": "2025-04-15T11:32:08.069210",
     "status": "completed"
    },
    "tags": []
   },
   "outputs": [],
   "source": [
    "# Define grid of hyperparameters\n",
    "n_estimators_list = [30, 50, 100, 150]\n",
    "max_depth_list = [5, 10, 15, 20]\n",
    "\n",
    "# Define a reusable evaluation function based on RMSLE\n",
    "def evaluate_model_rmsle(X_train, X_val, y_train, y_val, n_estimators, max_depth):\n",
    "    model = RandomForestRegressor(\n",
    "        n_estimators=n_estimators,\n",
    "        max_depth=max_depth,\n",
    "        random_state=42\n",
    "    )\n",
    "    \n",
    "    # Train the model\n",
    "    model.fit(X_train, y_train)\n",
    "    \n",
    "    # Predict and reverse log transformation\n",
    "    y_pred_log = model.predict(X_val)\n",
    "    y_pred = np.exp(y_pred_log)\n",
    "    y_val_true = np.exp(y_val)\n",
    "    \n",
    "    # Calculate Root Mean Squared Log Error\n",
    "    rmsle = np.sqrt(mean_squared_log_error(y_val_true, y_pred))\n",
    "    return rmsle"
   ]
  },
  {
   "cell_type": "code",
   "execution_count": 17,
   "id": "c7bfecce",
   "metadata": {
    "execution": {
     "iopub.execute_input": "2025-04-15T11:32:08.118192Z",
     "iopub.status.busy": "2025-04-15T11:32:08.117877Z",
     "iopub.status.idle": "2025-04-15T11:32:37.892059Z",
     "shell.execute_reply": "2025-04-15T11:32:37.890985Z"
    },
    "papermill": {
     "duration": 29.789278,
     "end_time": "2025-04-15T11:32:37.893724",
     "exception": false,
     "start_time": "2025-04-15T11:32:08.104446",
     "status": "completed"
    },
    "tags": []
   },
   "outputs": [
    {
     "name": "stdout",
     "output_type": "stream",
     "text": [
      "n=30, depth=5 → RMSLE: 0.1641\n",
      "n=30, depth=10 → RMSLE: 0.1457\n",
      "n=30, depth=15 → RMSLE: 0.1509\n",
      "n=30, depth=20 → RMSLE: 0.1521\n",
      "n=50, depth=5 → RMSLE: 0.1642\n",
      "n=50, depth=10 → RMSLE: 0.1471\n",
      "n=50, depth=15 → RMSLE: 0.1486\n",
      "n=50, depth=20 → RMSLE: 0.1496\n",
      "n=100, depth=5 → RMSLE: 0.1632\n",
      "n=100, depth=10 → RMSLE: 0.1446\n",
      "n=100, depth=15 → RMSLE: 0.1451\n",
      "n=100, depth=20 → RMSLE: 0.1454\n",
      "n=150, depth=5 → RMSLE: 0.1623\n",
      "n=150, depth=10 → RMSLE: 0.1447\n",
      "n=150, depth=15 → RMSLE: 0.1447\n",
      "n=150, depth=20 → RMSLE: 0.1450\n"
     ]
    }
   ],
   "source": [
    "results = []\n",
    "\n",
    "# Grid search: iterate over combinations of estimators and tree depth\n",
    "for n in n_estimators_list:\n",
    "    for d in max_depth_list:\n",
    "        rmsle = evaluate_model_rmsle(X_train, X_val, y_train, y_val, n_estimators=n, max_depth=d)\n",
    "        results.append({\n",
    "            'n_estimators': n,\n",
    "            'max_depth': d,\n",
    "            'rmsle': rmsle\n",
    "        })\n",
    "        print(f\"n={n}, depth={d} → RMSLE: {rmsle:.4f}\")"
   ]
  },
  {
   "cell_type": "code",
   "execution_count": 18,
   "id": "07c41ffa",
   "metadata": {
    "execution": {
     "iopub.execute_input": "2025-04-15T11:32:37.994752Z",
     "iopub.status.busy": "2025-04-15T11:32:37.994430Z",
     "iopub.status.idle": "2025-04-15T11:32:38.002825Z",
     "shell.execute_reply": "2025-04-15T11:32:38.001682Z"
    },
    "papermill": {
     "duration": 0.027152,
     "end_time": "2025-04-15T11:32:38.005238",
     "exception": false,
     "start_time": "2025-04-15T11:32:37.978086",
     "status": "completed"
    },
    "tags": []
   },
   "outputs": [
    {
     "name": "stdout",
     "output_type": "stream",
     "text": [
      "\n",
      " Best Model:\n",
      "n_estimators    100.000000\n",
      "max_depth        10.000000\n",
      "rmsle             0.144598\n",
      "Name: 9, dtype: float64\n"
     ]
    }
   ],
   "source": [
    "# After evaluating all combinations of n_estimators and max_depth,  \n",
    "# we select the model with the lowest RMSLE score.\n",
    "\n",
    "results_df = pd.DataFrame(results)\n",
    "best = results_df.loc[results_df['rmsle'].idxmin()]\n",
    "print(\"\\n Best Model:\")\n",
    "print(best)"
   ]
  },
  {
   "cell_type": "markdown",
   "id": "9dd98100",
   "metadata": {
    "papermill": {
     "duration": 0.013436,
     "end_time": "2025-04-15T11:32:38.034845",
     "exception": false,
     "start_time": "2025-04-15T11:32:38.021409",
     "status": "completed"
    },
    "tags": []
   },
   "source": [
    "## Final Model Training\n",
    "\n",
    "We retrain the best-performing Random Forest model on the entire training dataset using the selected hyperparameters.  "
   ]
  },
  {
   "cell_type": "code",
   "execution_count": 19,
   "id": "ca68228e",
   "metadata": {
    "execution": {
     "iopub.execute_input": "2025-04-15T11:32:38.064835Z",
     "iopub.status.busy": "2025-04-15T11:32:38.064531Z",
     "iopub.status.idle": "2025-04-15T11:32:40.252043Z",
     "shell.execute_reply": "2025-04-15T11:32:40.251128Z"
    },
    "papermill": {
     "duration": 2.205404,
     "end_time": "2025-04-15T11:32:40.253751",
     "exception": false,
     "start_time": "2025-04-15T11:32:38.048347",
     "status": "completed"
    },
    "tags": []
   },
   "outputs": [
    {
     "data": {
      "text/html": [
       "<style>#sk-container-id-1 {color: black;background-color: white;}#sk-container-id-1 pre{padding: 0;}#sk-container-id-1 div.sk-toggleable {background-color: white;}#sk-container-id-1 label.sk-toggleable__label {cursor: pointer;display: block;width: 100%;margin-bottom: 0;padding: 0.3em;box-sizing: border-box;text-align: center;}#sk-container-id-1 label.sk-toggleable__label-arrow:before {content: \"▸\";float: left;margin-right: 0.25em;color: #696969;}#sk-container-id-1 label.sk-toggleable__label-arrow:hover:before {color: black;}#sk-container-id-1 div.sk-estimator:hover label.sk-toggleable__label-arrow:before {color: black;}#sk-container-id-1 div.sk-toggleable__content {max-height: 0;max-width: 0;overflow: hidden;text-align: left;background-color: #f0f8ff;}#sk-container-id-1 div.sk-toggleable__content pre {margin: 0.2em;color: black;border-radius: 0.25em;background-color: #f0f8ff;}#sk-container-id-1 input.sk-toggleable__control:checked~div.sk-toggleable__content {max-height: 200px;max-width: 100%;overflow: auto;}#sk-container-id-1 input.sk-toggleable__control:checked~label.sk-toggleable__label-arrow:before {content: \"▾\";}#sk-container-id-1 div.sk-estimator input.sk-toggleable__control:checked~label.sk-toggleable__label {background-color: #d4ebff;}#sk-container-id-1 div.sk-label input.sk-toggleable__control:checked~label.sk-toggleable__label {background-color: #d4ebff;}#sk-container-id-1 input.sk-hidden--visually {border: 0;clip: rect(1px 1px 1px 1px);clip: rect(1px, 1px, 1px, 1px);height: 1px;margin: -1px;overflow: hidden;padding: 0;position: absolute;width: 1px;}#sk-container-id-1 div.sk-estimator {font-family: monospace;background-color: #f0f8ff;border: 1px dotted black;border-radius: 0.25em;box-sizing: border-box;margin-bottom: 0.5em;}#sk-container-id-1 div.sk-estimator:hover {background-color: #d4ebff;}#sk-container-id-1 div.sk-parallel-item::after {content: \"\";width: 100%;border-bottom: 1px solid gray;flex-grow: 1;}#sk-container-id-1 div.sk-label:hover label.sk-toggleable__label {background-color: #d4ebff;}#sk-container-id-1 div.sk-serial::before {content: \"\";position: absolute;border-left: 1px solid gray;box-sizing: border-box;top: 0;bottom: 0;left: 50%;z-index: 0;}#sk-container-id-1 div.sk-serial {display: flex;flex-direction: column;align-items: center;background-color: white;padding-right: 0.2em;padding-left: 0.2em;position: relative;}#sk-container-id-1 div.sk-item {position: relative;z-index: 1;}#sk-container-id-1 div.sk-parallel {display: flex;align-items: stretch;justify-content: center;background-color: white;position: relative;}#sk-container-id-1 div.sk-item::before, #sk-container-id-1 div.sk-parallel-item::before {content: \"\";position: absolute;border-left: 1px solid gray;box-sizing: border-box;top: 0;bottom: 0;left: 50%;z-index: -1;}#sk-container-id-1 div.sk-parallel-item {display: flex;flex-direction: column;z-index: 1;position: relative;background-color: white;}#sk-container-id-1 div.sk-parallel-item:first-child::after {align-self: flex-end;width: 50%;}#sk-container-id-1 div.sk-parallel-item:last-child::after {align-self: flex-start;width: 50%;}#sk-container-id-1 div.sk-parallel-item:only-child::after {width: 0;}#sk-container-id-1 div.sk-dashed-wrapped {border: 1px dashed gray;margin: 0 0.4em 0.5em 0.4em;box-sizing: border-box;padding-bottom: 0.4em;background-color: white;}#sk-container-id-1 div.sk-label label {font-family: monospace;font-weight: bold;display: inline-block;line-height: 1.2em;}#sk-container-id-1 div.sk-label-container {text-align: center;}#sk-container-id-1 div.sk-container {/* jupyter's `normalize.less` sets `[hidden] { display: none; }` but bootstrap.min.css set `[hidden] { display: none !important; }` so we also need the `!important` here to be able to override the default hidden behavior on the sphinx rendered scikit-learn.org. See: https://github.com/scikit-learn/scikit-learn/issues/21755 */display: inline-block !important;position: relative;}#sk-container-id-1 div.sk-text-repr-fallback {display: none;}</style><div id=\"sk-container-id-1\" class=\"sk-top-container\"><div class=\"sk-text-repr-fallback\"><pre>RandomForestRegressor(max_depth=10, random_state=42)</pre><b>In a Jupyter environment, please rerun this cell to show the HTML representation or trust the notebook. <br />On GitHub, the HTML representation is unable to render, please try loading this page with nbviewer.org.</b></div><div class=\"sk-container\" hidden><div class=\"sk-item\"><div class=\"sk-estimator sk-toggleable\"><input class=\"sk-toggleable__control sk-hidden--visually\" id=\"sk-estimator-id-1\" type=\"checkbox\" checked><label for=\"sk-estimator-id-1\" class=\"sk-toggleable__label sk-toggleable__label-arrow\">RandomForestRegressor</label><div class=\"sk-toggleable__content\"><pre>RandomForestRegressor(max_depth=10, random_state=42)</pre></div></div></div></div></div>"
      ],
      "text/plain": [
       "RandomForestRegressor(max_depth=10, random_state=42)"
      ]
     },
     "execution_count": 19,
     "metadata": {},
     "output_type": "execute_result"
    }
   ],
   "source": [
    "final_model =  RandomForestRegressor(n_estimators=100, max_depth =10, random_state =42)\n",
    "final_model.fit(X_train, y_train)"
   ]
  },
  {
   "cell_type": "markdown",
   "id": "b0940d0a",
   "metadata": {
    "papermill": {
     "duration": 0.014634,
     "end_time": "2025-04-15T11:32:40.284017",
     "exception": false,
     "start_time": "2025-04-15T11:32:40.269383",
     "status": "completed"
    },
    "tags": []
   },
   "source": [
    "## Test Set Preparation and Testing our Model\n",
    "\n",
    "We load and preprocess our new test dataset to match the structure of the training data."
   ]
  },
  {
   "cell_type": "code",
   "execution_count": 20,
   "id": "0b55f166",
   "metadata": {
    "execution": {
     "iopub.execute_input": "2025-04-15T11:32:40.313207Z",
     "iopub.status.busy": "2025-04-15T11:32:40.312905Z",
     "iopub.status.idle": "2025-04-15T11:32:40.349221Z",
     "shell.execute_reply": "2025-04-15T11:32:40.348269Z"
    },
    "papermill": {
     "duration": 0.052628,
     "end_time": "2025-04-15T11:32:40.350937",
     "exception": false,
     "start_time": "2025-04-15T11:32:40.298309",
     "status": "completed"
    },
    "tags": []
   },
   "outputs": [
    {
     "data": {
      "text/html": [
       "<div>\n",
       "<style scoped>\n",
       "    .dataframe tbody tr th:only-of-type {\n",
       "        vertical-align: middle;\n",
       "    }\n",
       "\n",
       "    .dataframe tbody tr th {\n",
       "        vertical-align: top;\n",
       "    }\n",
       "\n",
       "    .dataframe thead th {\n",
       "        text-align: right;\n",
       "    }\n",
       "</style>\n",
       "<table border=\"1\" class=\"dataframe\">\n",
       "  <thead>\n",
       "    <tr style=\"text-align: right;\">\n",
       "      <th></th>\n",
       "      <th>Id</th>\n",
       "      <th>MSSubClass</th>\n",
       "      <th>MSZoning</th>\n",
       "      <th>LotFrontage</th>\n",
       "      <th>LotArea</th>\n",
       "      <th>Street</th>\n",
       "      <th>Alley</th>\n",
       "      <th>LotShape</th>\n",
       "      <th>LandContour</th>\n",
       "      <th>Utilities</th>\n",
       "      <th>...</th>\n",
       "      <th>ScreenPorch</th>\n",
       "      <th>PoolArea</th>\n",
       "      <th>PoolQC</th>\n",
       "      <th>Fence</th>\n",
       "      <th>MiscFeature</th>\n",
       "      <th>MiscVal</th>\n",
       "      <th>MoSold</th>\n",
       "      <th>YrSold</th>\n",
       "      <th>SaleType</th>\n",
       "      <th>SaleCondition</th>\n",
       "    </tr>\n",
       "  </thead>\n",
       "  <tbody>\n",
       "    <tr>\n",
       "      <th>0</th>\n",
       "      <td>1461</td>\n",
       "      <td>20</td>\n",
       "      <td>RH</td>\n",
       "      <td>80.0</td>\n",
       "      <td>11622</td>\n",
       "      <td>Pave</td>\n",
       "      <td>NaN</td>\n",
       "      <td>Reg</td>\n",
       "      <td>Lvl</td>\n",
       "      <td>AllPub</td>\n",
       "      <td>...</td>\n",
       "      <td>120</td>\n",
       "      <td>0</td>\n",
       "      <td>NaN</td>\n",
       "      <td>MnPrv</td>\n",
       "      <td>NaN</td>\n",
       "      <td>0</td>\n",
       "      <td>6</td>\n",
       "      <td>2010</td>\n",
       "      <td>WD</td>\n",
       "      <td>Normal</td>\n",
       "    </tr>\n",
       "    <tr>\n",
       "      <th>1</th>\n",
       "      <td>1462</td>\n",
       "      <td>20</td>\n",
       "      <td>RL</td>\n",
       "      <td>81.0</td>\n",
       "      <td>14267</td>\n",
       "      <td>Pave</td>\n",
       "      <td>NaN</td>\n",
       "      <td>IR1</td>\n",
       "      <td>Lvl</td>\n",
       "      <td>AllPub</td>\n",
       "      <td>...</td>\n",
       "      <td>0</td>\n",
       "      <td>0</td>\n",
       "      <td>NaN</td>\n",
       "      <td>NaN</td>\n",
       "      <td>Gar2</td>\n",
       "      <td>12500</td>\n",
       "      <td>6</td>\n",
       "      <td>2010</td>\n",
       "      <td>WD</td>\n",
       "      <td>Normal</td>\n",
       "    </tr>\n",
       "    <tr>\n",
       "      <th>2</th>\n",
       "      <td>1463</td>\n",
       "      <td>60</td>\n",
       "      <td>RL</td>\n",
       "      <td>74.0</td>\n",
       "      <td>13830</td>\n",
       "      <td>Pave</td>\n",
       "      <td>NaN</td>\n",
       "      <td>IR1</td>\n",
       "      <td>Lvl</td>\n",
       "      <td>AllPub</td>\n",
       "      <td>...</td>\n",
       "      <td>0</td>\n",
       "      <td>0</td>\n",
       "      <td>NaN</td>\n",
       "      <td>MnPrv</td>\n",
       "      <td>NaN</td>\n",
       "      <td>0</td>\n",
       "      <td>3</td>\n",
       "      <td>2010</td>\n",
       "      <td>WD</td>\n",
       "      <td>Normal</td>\n",
       "    </tr>\n",
       "    <tr>\n",
       "      <th>3</th>\n",
       "      <td>1464</td>\n",
       "      <td>60</td>\n",
       "      <td>RL</td>\n",
       "      <td>78.0</td>\n",
       "      <td>9978</td>\n",
       "      <td>Pave</td>\n",
       "      <td>NaN</td>\n",
       "      <td>IR1</td>\n",
       "      <td>Lvl</td>\n",
       "      <td>AllPub</td>\n",
       "      <td>...</td>\n",
       "      <td>0</td>\n",
       "      <td>0</td>\n",
       "      <td>NaN</td>\n",
       "      <td>NaN</td>\n",
       "      <td>NaN</td>\n",
       "      <td>0</td>\n",
       "      <td>6</td>\n",
       "      <td>2010</td>\n",
       "      <td>WD</td>\n",
       "      <td>Normal</td>\n",
       "    </tr>\n",
       "    <tr>\n",
       "      <th>4</th>\n",
       "      <td>1465</td>\n",
       "      <td>120</td>\n",
       "      <td>RL</td>\n",
       "      <td>43.0</td>\n",
       "      <td>5005</td>\n",
       "      <td>Pave</td>\n",
       "      <td>NaN</td>\n",
       "      <td>IR1</td>\n",
       "      <td>HLS</td>\n",
       "      <td>AllPub</td>\n",
       "      <td>...</td>\n",
       "      <td>144</td>\n",
       "      <td>0</td>\n",
       "      <td>NaN</td>\n",
       "      <td>NaN</td>\n",
       "      <td>NaN</td>\n",
       "      <td>0</td>\n",
       "      <td>1</td>\n",
       "      <td>2010</td>\n",
       "      <td>WD</td>\n",
       "      <td>Normal</td>\n",
       "    </tr>\n",
       "  </tbody>\n",
       "</table>\n",
       "<p>5 rows × 80 columns</p>\n",
       "</div>"
      ],
      "text/plain": [
       "     Id  MSSubClass MSZoning  LotFrontage  LotArea Street Alley LotShape  \\\n",
       "0  1461          20       RH         80.0    11622   Pave   NaN      Reg   \n",
       "1  1462          20       RL         81.0    14267   Pave   NaN      IR1   \n",
       "2  1463          60       RL         74.0    13830   Pave   NaN      IR1   \n",
       "3  1464          60       RL         78.0     9978   Pave   NaN      IR1   \n",
       "4  1465         120       RL         43.0     5005   Pave   NaN      IR1   \n",
       "\n",
       "  LandContour Utilities  ... ScreenPorch PoolArea PoolQC  Fence MiscFeature  \\\n",
       "0         Lvl    AllPub  ...         120        0    NaN  MnPrv         NaN   \n",
       "1         Lvl    AllPub  ...           0        0    NaN    NaN        Gar2   \n",
       "2         Lvl    AllPub  ...           0        0    NaN  MnPrv         NaN   \n",
       "3         Lvl    AllPub  ...           0        0    NaN    NaN         NaN   \n",
       "4         HLS    AllPub  ...         144        0    NaN    NaN         NaN   \n",
       "\n",
       "  MiscVal MoSold  YrSold  SaleType  SaleCondition  \n",
       "0       0      6    2010        WD         Normal  \n",
       "1   12500      6    2010        WD         Normal  \n",
       "2       0      3    2010        WD         Normal  \n",
       "3       0      6    2010        WD         Normal  \n",
       "4       0      1    2010        WD         Normal  \n",
       "\n",
       "[5 rows x 80 columns]"
      ]
     },
     "execution_count": 20,
     "metadata": {},
     "output_type": "execute_result"
    }
   ],
   "source": [
    "# Load test dataset for final predictions\n",
    "test_df = pd.read_csv(\"/kaggle/input/house-prices-advanced-regression-techniques/test.csv\")\n",
    "test_df.head()"
   ]
  },
  {
   "cell_type": "markdown",
   "id": "6406cb31",
   "metadata": {
    "papermill": {
     "duration": 0.013851,
     "end_time": "2025-04-15T11:32:40.378990",
     "exception": false,
     "start_time": "2025-04-15T11:32:40.365139",
     "status": "completed"
    },
    "tags": []
   },
   "source": [
    "## Test Set Preprocessing\n",
    "\n",
    "We apply the same preprocessing steps to the test dataset that were used for the training set:"
   ]
  },
  {
   "cell_type": "code",
   "execution_count": 21,
   "id": "9ac8f034",
   "metadata": {
    "execution": {
     "iopub.execute_input": "2025-04-15T11:32:40.410028Z",
     "iopub.status.busy": "2025-04-15T11:32:40.409743Z",
     "iopub.status.idle": "2025-04-15T11:32:40.481607Z",
     "shell.execute_reply": "2025-04-15T11:32:40.480696Z"
    },
    "papermill": {
     "duration": 0.089656,
     "end_time": "2025-04-15T11:32:40.483012",
     "exception": false,
     "start_time": "2025-04-15T11:32:40.393356",
     "status": "completed"
    },
    "tags": []
   },
   "outputs": [
    {
     "data": {
      "text/html": [
       "<div>\n",
       "<style scoped>\n",
       "    .dataframe tbody tr th:only-of-type {\n",
       "        vertical-align: middle;\n",
       "    }\n",
       "\n",
       "    .dataframe tbody tr th {\n",
       "        vertical-align: top;\n",
       "    }\n",
       "\n",
       "    .dataframe thead th {\n",
       "        text-align: right;\n",
       "    }\n",
       "</style>\n",
       "<table border=\"1\" class=\"dataframe\">\n",
       "  <thead>\n",
       "    <tr style=\"text-align: right;\">\n",
       "      <th></th>\n",
       "      <th>MSSubClass</th>\n",
       "      <th>LotFrontage</th>\n",
       "      <th>LotArea</th>\n",
       "      <th>OverallQual</th>\n",
       "      <th>OverallCond</th>\n",
       "      <th>YearBuilt</th>\n",
       "      <th>YearRemodAdd</th>\n",
       "      <th>MasVnrArea</th>\n",
       "      <th>BsmtFinSF1</th>\n",
       "      <th>BsmtFinSF2</th>\n",
       "      <th>...</th>\n",
       "      <th>SaleType_ConLw</th>\n",
       "      <th>SaleType_New</th>\n",
       "      <th>SaleType_Oth</th>\n",
       "      <th>SaleType_WD</th>\n",
       "      <th>SaleCondition_Abnorml</th>\n",
       "      <th>SaleCondition_AdjLand</th>\n",
       "      <th>SaleCondition_Alloca</th>\n",
       "      <th>SaleCondition_Family</th>\n",
       "      <th>SaleCondition_Normal</th>\n",
       "      <th>SaleCondition_Partial</th>\n",
       "    </tr>\n",
       "  </thead>\n",
       "  <tbody>\n",
       "    <tr>\n",
       "      <th>0</th>\n",
       "      <td>20.0</td>\n",
       "      <td>80.0</td>\n",
       "      <td>11622.0</td>\n",
       "      <td>5.0</td>\n",
       "      <td>6.0</td>\n",
       "      <td>1961.0</td>\n",
       "      <td>1961.0</td>\n",
       "      <td>0.0</td>\n",
       "      <td>468.0</td>\n",
       "      <td>144.0</td>\n",
       "      <td>...</td>\n",
       "      <td>0.0</td>\n",
       "      <td>0.0</td>\n",
       "      <td>0.0</td>\n",
       "      <td>1.0</td>\n",
       "      <td>0.0</td>\n",
       "      <td>0.0</td>\n",
       "      <td>0.0</td>\n",
       "      <td>0.0</td>\n",
       "      <td>1.0</td>\n",
       "      <td>0.0</td>\n",
       "    </tr>\n",
       "    <tr>\n",
       "      <th>1</th>\n",
       "      <td>20.0</td>\n",
       "      <td>81.0</td>\n",
       "      <td>14267.0</td>\n",
       "      <td>6.0</td>\n",
       "      <td>6.0</td>\n",
       "      <td>1958.0</td>\n",
       "      <td>1958.0</td>\n",
       "      <td>108.0</td>\n",
       "      <td>923.0</td>\n",
       "      <td>0.0</td>\n",
       "      <td>...</td>\n",
       "      <td>0.0</td>\n",
       "      <td>0.0</td>\n",
       "      <td>0.0</td>\n",
       "      <td>1.0</td>\n",
       "      <td>0.0</td>\n",
       "      <td>0.0</td>\n",
       "      <td>0.0</td>\n",
       "      <td>0.0</td>\n",
       "      <td>1.0</td>\n",
       "      <td>0.0</td>\n",
       "    </tr>\n",
       "    <tr>\n",
       "      <th>2</th>\n",
       "      <td>60.0</td>\n",
       "      <td>74.0</td>\n",
       "      <td>13830.0</td>\n",
       "      <td>5.0</td>\n",
       "      <td>5.0</td>\n",
       "      <td>1997.0</td>\n",
       "      <td>1998.0</td>\n",
       "      <td>0.0</td>\n",
       "      <td>791.0</td>\n",
       "      <td>0.0</td>\n",
       "      <td>...</td>\n",
       "      <td>0.0</td>\n",
       "      <td>0.0</td>\n",
       "      <td>0.0</td>\n",
       "      <td>1.0</td>\n",
       "      <td>0.0</td>\n",
       "      <td>0.0</td>\n",
       "      <td>0.0</td>\n",
       "      <td>0.0</td>\n",
       "      <td>1.0</td>\n",
       "      <td>0.0</td>\n",
       "    </tr>\n",
       "    <tr>\n",
       "      <th>3</th>\n",
       "      <td>60.0</td>\n",
       "      <td>78.0</td>\n",
       "      <td>9978.0</td>\n",
       "      <td>6.0</td>\n",
       "      <td>6.0</td>\n",
       "      <td>1998.0</td>\n",
       "      <td>1998.0</td>\n",
       "      <td>20.0</td>\n",
       "      <td>602.0</td>\n",
       "      <td>0.0</td>\n",
       "      <td>...</td>\n",
       "      <td>0.0</td>\n",
       "      <td>0.0</td>\n",
       "      <td>0.0</td>\n",
       "      <td>1.0</td>\n",
       "      <td>0.0</td>\n",
       "      <td>0.0</td>\n",
       "      <td>0.0</td>\n",
       "      <td>0.0</td>\n",
       "      <td>1.0</td>\n",
       "      <td>0.0</td>\n",
       "    </tr>\n",
       "    <tr>\n",
       "      <th>4</th>\n",
       "      <td>120.0</td>\n",
       "      <td>43.0</td>\n",
       "      <td>5005.0</td>\n",
       "      <td>8.0</td>\n",
       "      <td>5.0</td>\n",
       "      <td>1992.0</td>\n",
       "      <td>1992.0</td>\n",
       "      <td>0.0</td>\n",
       "      <td>263.0</td>\n",
       "      <td>0.0</td>\n",
       "      <td>...</td>\n",
       "      <td>0.0</td>\n",
       "      <td>0.0</td>\n",
       "      <td>0.0</td>\n",
       "      <td>1.0</td>\n",
       "      <td>0.0</td>\n",
       "      <td>0.0</td>\n",
       "      <td>0.0</td>\n",
       "      <td>0.0</td>\n",
       "      <td>1.0</td>\n",
       "      <td>0.0</td>\n",
       "    </tr>\n",
       "  </tbody>\n",
       "</table>\n",
       "<p>5 rows × 286 columns</p>\n",
       "</div>"
      ],
      "text/plain": [
       "   MSSubClass  LotFrontage  LotArea  OverallQual  OverallCond  YearBuilt  \\\n",
       "0        20.0         80.0  11622.0          5.0          6.0     1961.0   \n",
       "1        20.0         81.0  14267.0          6.0          6.0     1958.0   \n",
       "2        60.0         74.0  13830.0          5.0          5.0     1997.0   \n",
       "3        60.0         78.0   9978.0          6.0          6.0     1998.0   \n",
       "4       120.0         43.0   5005.0          8.0          5.0     1992.0   \n",
       "\n",
       "   YearRemodAdd  MasVnrArea  BsmtFinSF1  BsmtFinSF2  ...  SaleType_ConLw  \\\n",
       "0        1961.0         0.0       468.0       144.0  ...             0.0   \n",
       "1        1958.0       108.0       923.0         0.0  ...             0.0   \n",
       "2        1998.0         0.0       791.0         0.0  ...             0.0   \n",
       "3        1998.0        20.0       602.0         0.0  ...             0.0   \n",
       "4        1992.0         0.0       263.0         0.0  ...             0.0   \n",
       "\n",
       "   SaleType_New  SaleType_Oth  SaleType_WD  SaleCondition_Abnorml  \\\n",
       "0           0.0           0.0          1.0                    0.0   \n",
       "1           0.0           0.0          1.0                    0.0   \n",
       "2           0.0           0.0          1.0                    0.0   \n",
       "3           0.0           0.0          1.0                    0.0   \n",
       "4           0.0           0.0          1.0                    0.0   \n",
       "\n",
       "   SaleCondition_AdjLand  SaleCondition_Alloca  SaleCondition_Family  \\\n",
       "0                    0.0                   0.0                   0.0   \n",
       "1                    0.0                   0.0                   0.0   \n",
       "2                    0.0                   0.0                   0.0   \n",
       "3                    0.0                   0.0                   0.0   \n",
       "4                    0.0                   0.0                   0.0   \n",
       "\n",
       "   SaleCondition_Normal  SaleCondition_Partial  \n",
       "0                   1.0                    0.0  \n",
       "1                   1.0                    0.0  \n",
       "2                   1.0                    0.0  \n",
       "3                   1.0                    0.0  \n",
       "4                   1.0                    0.0  \n",
       "\n",
       "[5 rows x 286 columns]"
      ]
     },
     "execution_count": 21,
     "metadata": {},
     "output_type": "execute_result"
    }
   ],
   "source": [
    "# Make a copy of the test data and drop columns with too many missing values\n",
    "df_test_processed = test_df.copy()\n",
    "df_test_processed = df_test_processed.drop(columns=[\"Id\", \"Alley\", \"PoolQC\", \"Fence\", \"MiscFeature\"])\n",
    "\n",
    "# Impute missing numerical values using median strategy\n",
    "df_test_processed[num_cols] = pd.DataFrame(\n",
    "    num_imputer.transform(df_test_processed[num_cols]),\n",
    "    columns=num_cols,\n",
    "    index=df_test_processed.index\n",
    ")\n",
    "\n",
    "# Impute missing categorical values using 'Unknown'\n",
    "df_test_processed[cat_cols] = pd.DataFrame(\n",
    "    cat_imputer.transform(df_test_processed[cat_cols]),\n",
    "    columns=cat_cols,\n",
    "    index=df_test_processed.index\n",
    ")\n",
    "\n",
    "# Apply One-Hot Encoding to categorical columns\n",
    "cat_encoded_test = ohe.transform(df_test_processed[cat_cols])\n",
    "df_cat_encoded_test = pd.DataFrame(cat_encoded_test, columns=encoded_cols, index=df_test_processed.index)\n",
    "\n",
    "# Combine numerical and encoded categorical features into final test set\n",
    "df_test_final = pd.concat([df_test_processed[num_cols], df_cat_encoded_test], axis=1)\n",
    "\n",
    "df_test_final.head()"
   ]
  },
  {
   "cell_type": "code",
   "execution_count": 22,
   "id": "f3139688",
   "metadata": {
    "execution": {
     "iopub.execute_input": "2025-04-15T11:32:40.514178Z",
     "iopub.status.busy": "2025-04-15T11:32:40.513903Z",
     "iopub.status.idle": "2025-04-15T11:32:40.518948Z",
     "shell.execute_reply": "2025-04-15T11:32:40.517806Z"
    },
    "papermill": {
     "duration": 0.022455,
     "end_time": "2025-04-15T11:32:40.520624",
     "exception": false,
     "start_time": "2025-04-15T11:32:40.498169",
     "status": "completed"
    },
    "tags": []
   },
   "outputs": [
    {
     "name": "stdout",
     "output_type": "stream",
     "text": [
      "(1460, 286)\n",
      "(1459, 286)\n"
     ]
    }
   ],
   "source": [
    "# Check the shape of our training and testing datasets\n",
    "print(df_final.shape)\n",
    "print(df_test_final.shape)"
   ]
  },
  {
   "cell_type": "markdown",
   "id": "fc45d7bd",
   "metadata": {
    "papermill": {
     "duration": 0.015002,
     "end_time": "2025-04-15T11:32:40.550440",
     "exception": false,
     "start_time": "2025-04-15T11:32:40.535438",
     "status": "completed"
    },
    "tags": []
   },
   "source": [
    "## Model Predictions on Test Set\n",
    "\n",
    "We use the trained model to make predictions on the test set and reverse the log transformation using `np.exp()`. Below is a comparison between the original training target distribution and our model’s predicted values.\n"
   ]
  },
  {
   "cell_type": "code",
   "execution_count": 23,
   "id": "10efdcb8",
   "metadata": {
    "execution": {
     "iopub.execute_input": "2025-04-15T11:32:40.580178Z",
     "iopub.status.busy": "2025-04-15T11:32:40.579900Z",
     "iopub.status.idle": "2025-04-15T11:32:40.613948Z",
     "shell.execute_reply": "2025-04-15T11:32:40.613018Z"
    },
    "papermill": {
     "duration": 0.050897,
     "end_time": "2025-04-15T11:32:40.615724",
     "exception": false,
     "start_time": "2025-04-15T11:32:40.564827",
     "status": "completed"
    },
    "tags": []
   },
   "outputs": [
    {
     "data": {
      "text/plain": [
       "array([127202.90065208, 154182.40775493, 176408.64608801, ...,\n",
       "       152930.66200617, 115506.80598884, 227096.55639498])"
      ]
     },
     "execution_count": 23,
     "metadata": {},
     "output_type": "execute_result"
    }
   ],
   "source": [
    "y_test_pred_log = final_model.predict(df_test_final)\n",
    "y_test_pred = np.exp(y_test_pred_log) # Convert predictions back from log scale to original scale\n",
    "y_test_pred"
   ]
  },
  {
   "cell_type": "code",
   "execution_count": 24,
   "id": "35710e83",
   "metadata": {
    "execution": {
     "iopub.execute_input": "2025-04-15T11:32:40.647099Z",
     "iopub.status.busy": "2025-04-15T11:32:40.645908Z",
     "iopub.status.idle": "2025-04-15T11:32:41.457505Z",
     "shell.execute_reply": "2025-04-15T11:32:41.456523Z"
    },
    "papermill": {
     "duration": 0.828756,
     "end_time": "2025-04-15T11:32:41.459161",
     "exception": false,
     "start_time": "2025-04-15T11:32:40.630405",
     "status": "completed"
    },
    "tags": []
   },
   "outputs": [
    {
     "name": "stderr",
     "output_type": "stream",
     "text": [
      "/usr/local/lib/python3.11/dist-packages/seaborn/_oldcore.py:1119: FutureWarning: use_inf_as_na option is deprecated and will be removed in a future version. Convert inf values to NaN before operating instead.\n",
      "  with pd.option_context('mode.use_inf_as_na', True):\n",
      "/usr/local/lib/python3.11/dist-packages/seaborn/_oldcore.py:1119: FutureWarning: use_inf_as_na option is deprecated and will be removed in a future version. Convert inf values to NaN before operating instead.\n",
      "  with pd.option_context('mode.use_inf_as_na', True):\n"
     ]
    },
    {
     "data": {
      "image/png": "[encoded data removed]",
      "text/plain": [
       "<Figure size 1400x500 with 2 Axes>"
      ]
     },
     "metadata": {},
     "output_type": "display_data"
    }
   ],
   "source": [
    "# Plot original vs predicted SalePrice distributions\n",
    "plt.figure(figsize=(14, 5))\n",
    "\n",
    "# Left plot: original SalePrice distribution from training data\n",
    "plt.subplot(1, 2, 1)\n",
    "sns.histplot(df[\"SalePrice\"], kde=True, bins=30)\n",
    "plt.title(\"SalePrice\")\n",
    "\n",
    "# Right plot: predicted SalePrice distribution from test data\n",
    "plt.subplot(1, 2, 2)\n",
    "sns.histplot(y_test_pred, kde=True, bins=30, color='g')\n",
    "plt.title(\"SalePrice predicted\")\n",
    "\n",
    "plt.tight_layout()\n",
    "plt.show()"
   ]
  },
  {
   "cell_type": "markdown",
   "id": "0a90d913",
   "metadata": {
    "papermill": {
     "duration": 0.015204,
     "end_time": "2025-04-15T11:32:41.491091",
     "exception": false,
     "start_time": "2025-04-15T11:32:41.475887",
     "status": "completed"
    },
    "tags": []
   },
   "source": [
    "## Submission"
   ]
  },
  {
   "cell_type": "code",
   "execution_count": 25,
   "id": "a4bfdeb8",
   "metadata": {
    "execution": {
     "iopub.execute_input": "2025-04-15T11:32:41.524133Z",
     "iopub.status.busy": "2025-04-15T11:32:41.523791Z",
     "iopub.status.idle": "2025-04-15T11:32:41.542195Z",
     "shell.execute_reply": "2025-04-15T11:32:41.541320Z"
    },
    "papermill": {
     "duration": 0.036865,
     "end_time": "2025-04-15T11:32:41.543727",
     "exception": false,
     "start_time": "2025-04-15T11:32:41.506862",
     "status": "completed"
    },
    "tags": []
   },
   "outputs": [
    {
     "data": {
      "text/html": [
       "<div>\n",
       "<style scoped>\n",
       "    .dataframe tbody tr th:only-of-type {\n",
       "        vertical-align: middle;\n",
       "    }\n",
       "\n",
       "    .dataframe tbody tr th {\n",
       "        vertical-align: top;\n",
       "    }\n",
       "\n",
       "    .dataframe thead th {\n",
       "        text-align: right;\n",
       "    }\n",
       "</style>\n",
       "<table border=\"1\" class=\"dataframe\">\n",
       "  <thead>\n",
       "    <tr style=\"text-align: right;\">\n",
       "      <th></th>\n",
       "      <th>Id</th>\n",
       "      <th>SalePrice</th>\n",
       "    </tr>\n",
       "  </thead>\n",
       "  <tbody>\n",
       "    <tr>\n",
       "      <th>0</th>\n",
       "      <td>1461</td>\n",
       "      <td>127202.900652</td>\n",
       "    </tr>\n",
       "    <tr>\n",
       "      <th>1</th>\n",
       "      <td>1462</td>\n",
       "      <td>154182.407755</td>\n",
       "    </tr>\n",
       "    <tr>\n",
       "      <th>2</th>\n",
       "      <td>1463</td>\n",
       "      <td>176408.646088</td>\n",
       "    </tr>\n",
       "    <tr>\n",
       "      <th>3</th>\n",
       "      <td>1464</td>\n",
       "      <td>182564.983961</td>\n",
       "    </tr>\n",
       "    <tr>\n",
       "      <th>4</th>\n",
       "      <td>1465</td>\n",
       "      <td>197526.756655</td>\n",
       "    </tr>\n",
       "  </tbody>\n",
       "</table>\n",
       "</div>"
      ],
      "text/plain": [
       "     Id      SalePrice\n",
       "0  1461  127202.900652\n",
       "1  1462  154182.407755\n",
       "2  1463  176408.646088\n",
       "3  1464  182564.983961\n",
       "4  1465  197526.756655"
      ]
     },
     "execution_count": 25,
     "metadata": {},
     "output_type": "execute_result"
    }
   ],
   "source": [
    "submission = pd.DataFrame({\n",
    "    \"Id\": test_df[\"Id\"], \n",
    "    \"SalePrice\": y_test_pred\n",
    "})\n",
    "\n",
    "submission.to_csv(\"submission.csv\", index=False)\n",
    "\n",
    "submission.head()"
   ]
  }
 ],
 "metadata": {
  "kaggle": {
   "accelerator": "none",
   "dataSources": [
    {
     "databundleVersionId": 868283,
     "sourceId": 5407,
     "sourceType": "competition"
    }
   ],
   "dockerImageVersionId": 31012,
   "isGpuEnabled": false,
   "isInternetEnabled": false,
   "language": "python",
   "sourceType": "notebook"
  },
  "kernelspec": {
   "display_name": "Python 3",
   "language": "python",
   "name": "python3"
  },
  "language_info": {
   "codemirror_mode": {
    "name": "ipython",
    "version": 3
   },
   "file_extension": ".py",
   "mimetype": "text/x-python",
   "name": "python",
   "nbconvert_exporter": "python",
   "pygments_lexer": "ipython3",
   "version": "3.11.11"
  },
  "papermill": {
   "default_parameters": {},
   "duration": 56.31509,
   "end_time": "2025-04-15T11:32:42.480957",
   "environment_variables": {},
   "exception": null,
   "input_path": "__notebook__.ipynb",
   "output_path": "__notebook__.ipynb",
   "parameters": {},
   "start_time": "2025-04-15T11:31:46.165867",
   "version": "2.6.0"
  }
 },
 "nbformat": 4,
 "nbformat_minor": 5
}
